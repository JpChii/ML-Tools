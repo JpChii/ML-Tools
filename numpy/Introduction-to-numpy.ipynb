{
 "cells": [
  {
   "cell_type": "markdown",
   "metadata": {},
   "source": [
    "## Why Numpy?\n",
    "\n",
    "1. under the hood many funtionalities offered numpy are written in C(Optimized). performing operations in numpy is much faster than python. In machine learning we do a lot of processing, numpy offers performance advantage for this processing.\n",
    "2. Machines understand 1 and 0's, we can repersent a image in numbers using numpy\n",
    "3. It's fast\n",
    "4. Vectorization via broadcasting(avoiding loops)\n",
    "5. Backbone of other Python scientific packages(ex pandas)\n",
    "\n",
    "**Numpy is the backbone of all machine learning, data sciene and numerical computataions**\n",
    "\n",
    "## What is Numpy?\n",
    "\n",
    "In All of machine learning irrespective of the datset, numpy is gonna form the formation of turning the data into numbers, then machine learning will find the pattern in numbers"
   ]
  },
  {
   "cell_type": "markdown",
   "metadata": {},
   "source": [
    "### What are we're going to cover in this notebook\n",
    "\n",
    "1. Numpy Datatype and Attributes"
   ]
  },
  {
   "cell_type": "markdown",
   "metadata": {},
   "source": [
    "#### 1. Numpy Datatype and Attributes"
   ]
  },
  {
   "cell_type": "code",
   "execution_count": 2,
   "metadata": {},
   "outputs": [],
   "source": [
    "import numpy as np"
   ]
  },
  {
   "cell_type": "code",
   "execution_count": null,
   "metadata": {},
   "outputs": [],
   "source": []
  }
 ],
 "metadata": {
  "kernelspec": {
   "display_name": "Python 3",
   "language": "python",
   "name": "python3"
  },
  "language_info": {
   "codemirror_mode": {
    "name": "ipython",
    "version": 3
   },
   "file_extension": ".py",
   "mimetype": "text/x-python",
   "name": "python",
   "nbconvert_exporter": "python",
   "pygments_lexer": "ipython3",
   "version": "3.8.5"
  }
 },
 "nbformat": 4,
 "nbformat_minor": 4
}
